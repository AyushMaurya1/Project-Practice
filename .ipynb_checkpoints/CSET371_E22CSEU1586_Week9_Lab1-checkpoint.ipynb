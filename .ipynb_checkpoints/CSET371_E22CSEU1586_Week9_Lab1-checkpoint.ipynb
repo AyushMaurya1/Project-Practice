{
 "cells": [
  {
   "cell_type": "code",
   "execution_count": 23,
   "id": "e4eaade8",
   "metadata": {},
   "outputs": [],
   "source": [
    "from sklearn.datasets import load_iris\n",
    "from sklearn.model_selection import train_test_split\n",
    "from sklearn.preprocessing import StandardScaler\n",
    "from keras.utils import to_categorical\n",
    "from keras.models import Sequential\n",
    "from keras.layers import Dense\n",
    "from keras.optimizers import Adam\n",
    "from sklearn.metrics import confusion_matrix, classification_report\n",
    "import numpy as np\n",
    "import matplotlib.pyplot as plt\n"
   ]
  },
  {
   "cell_type": "code",
   "execution_count": 24,
   "id": "c6c73811",
   "metadata": {},
   "outputs": [],
   "source": [
    "# Load dataset\n",
    "iris = load_iris()\n",
    "X, y = iris.data, iris.target"
   ]
  },
  {
   "cell_type": "code",
   "execution_count": 25,
   "id": "2db7a1ac",
   "metadata": {},
   "outputs": [
    {
     "data": {
      "text/plain": [
       "array([0, 1, 2])"
      ]
     },
     "execution_count": 25,
     "metadata": {},
     "output_type": "execute_result"
    }
   ],
   "source": [
    "np.unique(y)"
   ]
  },
  {
   "cell_type": "code",
   "execution_count": 26,
   "id": "d71753d0",
   "metadata": {},
   "outputs": [
    {
     "data": {
      "text/plain": [
       "array([[5.1, 3.5, 1.4, 0.2],\n",
       "       [4.9, 3. , 1.4, 0.2],\n",
       "       [4.7, 3.2, 1.3, 0.2],\n",
       "       [4.6, 3.1, 1.5, 0.2],\n",
       "       [5. , 3.6, 1.4, 0.2]])"
      ]
     },
     "execution_count": 26,
     "metadata": {},
     "output_type": "execute_result"
    }
   ],
   "source": [
    "X[:5]"
   ]
  },
  {
   "cell_type": "code",
   "execution_count": 27,
   "id": "bab7c3a2",
   "metadata": {},
   "outputs": [
    {
     "data": {
      "text/plain": [
       "array([0, 0, 0, 0, 0])"
      ]
     },
     "execution_count": 27,
     "metadata": {},
     "output_type": "execute_result"
    }
   ],
   "source": [
    "y[:5]"
   ]
  },
  {
   "cell_type": "code",
   "execution_count": 28,
   "id": "0aa384c8",
   "metadata": {},
   "outputs": [
    {
     "data": {
      "text/plain": [
       "(150, 4)"
      ]
     },
     "execution_count": 28,
     "metadata": {},
     "output_type": "execute_result"
    }
   ],
   "source": [
    "X.shape"
   ]
  },
  {
   "cell_type": "code",
   "execution_count": 29,
   "id": "dfe9af33",
   "metadata": {},
   "outputs": [
    {
     "data": {
      "text/plain": [
       "(150,)"
      ]
     },
     "execution_count": 29,
     "metadata": {},
     "output_type": "execute_result"
    }
   ],
   "source": [
    "y.shape"
   ]
  },
  {
   "cell_type": "code",
   "execution_count": 30,
   "id": "82ff08ab",
   "metadata": {},
   "outputs": [],
   "source": [
    "# One-hot encode the target variable\n",
    "y = to_categorical(y, 3)"
   ]
  },
  {
   "cell_type": "code",
   "execution_count": 39,
   "id": "f9c7158c",
   "metadata": {},
   "outputs": [
    {
     "data": {
      "text/plain": [
       "array([[1., 0., 0.],\n",
       "       [1., 0., 0.],\n",
       "       [1., 0., 0.],\n",
       "       [1., 0., 0.],\n",
       "       [1., 0., 0.]], dtype=float32)"
      ]
     },
     "execution_count": 39,
     "metadata": {},
     "output_type": "execute_result"
    }
   ],
   "source": [
    "y[:5]"
   ]
  },
  {
   "cell_type": "code",
   "execution_count": 31,
   "id": "c6341b38",
   "metadata": {},
   "outputs": [],
   "source": [
    "# Feature scaling\n",
    "scaler = StandardScaler()\n",
    "X_scaled = scaler.fit_transform(X)"
   ]
  },
  {
   "cell_type": "code",
   "execution_count": 32,
   "id": "487fb4bd",
   "metadata": {},
   "outputs": [],
   "source": [
    "# Split dataset into training and testing sets\n",
    "X_train, X_test, y_train, y_test = train_test_split(X_scaled, y, test_size=0.2, random_state=42)"
   ]
  },
  {
   "cell_type": "code",
   "execution_count": 33,
   "id": "7e48ab9e",
   "metadata": {},
   "outputs": [],
   "source": [
    "# Build the ANN model\n",
    "model = Sequential()\n",
    "\n",
    "# Input layer and first hidden layer (experiment with 10-100 neurons)\n",
    "model.add(Dense(units=10, activation='relu', input_dim=4))\n",
    "\n",
    "# Second hidden layer (optional)\n",
    "model.add(Dense(units=10, activation='relu'))\n",
    "\n",
    "# Output layer (softmax for multi-class classification)\n",
    "model.add(Dense(units=3, activation='softmax'))"
   ]
  },
  {
   "cell_type": "code",
   "execution_count": 34,
   "id": "d41e26da",
   "metadata": {},
   "outputs": [],
   "source": [
    "# Compile the model\n",
    "model.compile(optimizer=Adam(), loss='categorical_crossentropy', metrics=['accuracy'])"
   ]
  },
  {
   "cell_type": "code",
   "execution_count": 35,
   "id": "baefc8c9",
   "metadata": {},
   "outputs": [
    {
     "name": "stdout",
     "output_type": "stream",
     "text": [
      "Epoch 1/100\n",
      "10/10 [==============================] - 1s 33ms/step - loss: 1.0616 - accuracy: 0.4479 - val_loss: 1.0721 - val_accuracy: 0.3333\n",
      "Epoch 2/100\n",
      "10/10 [==============================] - 0s 6ms/step - loss: 1.0208 - accuracy: 0.6562 - val_loss: 1.0327 - val_accuracy: 0.4583\n",
      "Epoch 3/100\n",
      "10/10 [==============================] - 0s 6ms/step - loss: 0.9799 - accuracy: 0.6979 - val_loss: 0.9949 - val_accuracy: 0.5417\n",
      "Epoch 4/100\n",
      "10/10 [==============================] - 0s 5ms/step - loss: 0.9394 - accuracy: 0.7083 - val_loss: 0.9552 - val_accuracy: 0.5833\n",
      "Epoch 5/100\n",
      "10/10 [==============================] - 0s 6ms/step - loss: 0.8989 - accuracy: 0.7292 - val_loss: 0.9214 - val_accuracy: 0.5833\n",
      "Epoch 6/100\n",
      "10/10 [==============================] - 0s 6ms/step - loss: 0.8590 - accuracy: 0.7500 - val_loss: 0.8808 - val_accuracy: 0.7083\n",
      "Epoch 7/100\n",
      "10/10 [==============================] - 0s 5ms/step - loss: 0.8193 - accuracy: 0.8333 - val_loss: 0.8347 - val_accuracy: 0.7917\n",
      "Epoch 8/100\n",
      "10/10 [==============================] - 0s 6ms/step - loss: 0.7800 - accuracy: 0.8229 - val_loss: 0.7975 - val_accuracy: 0.7500\n",
      "Epoch 9/100\n",
      "10/10 [==============================] - 0s 6ms/step - loss: 0.7399 - accuracy: 0.8229 - val_loss: 0.7537 - val_accuracy: 0.9167\n",
      "Epoch 10/100\n",
      "10/10 [==============================] - 0s 6ms/step - loss: 0.7017 - accuracy: 0.8333 - val_loss: 0.7137 - val_accuracy: 0.9167\n",
      "Epoch 11/100\n",
      "10/10 [==============================] - 0s 6ms/step - loss: 0.6647 - accuracy: 0.8229 - val_loss: 0.6768 - val_accuracy: 0.9167\n",
      "Epoch 12/100\n",
      "10/10 [==============================] - 0s 6ms/step - loss: 0.6310 - accuracy: 0.8021 - val_loss: 0.6435 - val_accuracy: 0.9167\n",
      "Epoch 13/100\n",
      "10/10 [==============================] - 0s 7ms/step - loss: 0.5991 - accuracy: 0.8125 - val_loss: 0.6075 - val_accuracy: 0.8750\n",
      "Epoch 14/100\n",
      "10/10 [==============================] - 0s 9ms/step - loss: 0.5686 - accuracy: 0.8125 - val_loss: 0.5825 - val_accuracy: 0.9167\n",
      "Epoch 15/100\n",
      "10/10 [==============================] - 0s 6ms/step - loss: 0.5422 - accuracy: 0.8229 - val_loss: 0.5544 - val_accuracy: 0.8750\n",
      "Epoch 16/100\n",
      "10/10 [==============================] - 0s 7ms/step - loss: 0.5179 - accuracy: 0.8229 - val_loss: 0.5350 - val_accuracy: 0.9167\n",
      "Epoch 17/100\n",
      "10/10 [==============================] - 0s 6ms/step - loss: 0.4958 - accuracy: 0.8229 - val_loss: 0.5121 - val_accuracy: 0.9167\n",
      "Epoch 18/100\n",
      "10/10 [==============================] - 0s 6ms/step - loss: 0.4762 - accuracy: 0.8229 - val_loss: 0.4964 - val_accuracy: 0.9167\n",
      "Epoch 19/100\n",
      "10/10 [==============================] - 0s 6ms/step - loss: 0.4583 - accuracy: 0.8229 - val_loss: 0.4768 - val_accuracy: 0.9167\n",
      "Epoch 20/100\n",
      "10/10 [==============================] - 0s 6ms/step - loss: 0.4418 - accuracy: 0.8229 - val_loss: 0.4635 - val_accuracy: 0.9167\n",
      "Epoch 21/100\n",
      "10/10 [==============================] - 0s 6ms/step - loss: 0.4266 - accuracy: 0.8229 - val_loss: 0.4501 - val_accuracy: 0.9167\n",
      "Epoch 22/100\n",
      "10/10 [==============================] - 0s 5ms/step - loss: 0.4132 - accuracy: 0.8333 - val_loss: 0.4365 - val_accuracy: 0.9167\n",
      "Epoch 23/100\n",
      "10/10 [==============================] - 0s 7ms/step - loss: 0.4009 - accuracy: 0.8438 - val_loss: 0.4262 - val_accuracy: 0.9167\n",
      "Epoch 24/100\n",
      "10/10 [==============================] - 0s 6ms/step - loss: 0.3891 - accuracy: 0.8542 - val_loss: 0.4158 - val_accuracy: 0.9167\n",
      "Epoch 25/100\n",
      "10/10 [==============================] - 0s 6ms/step - loss: 0.3789 - accuracy: 0.8542 - val_loss: 0.4029 - val_accuracy: 0.9167\n",
      "Epoch 26/100\n",
      "10/10 [==============================] - 0s 7ms/step - loss: 0.3687 - accuracy: 0.8646 - val_loss: 0.3969 - val_accuracy: 0.9167\n",
      "Epoch 27/100\n",
      "10/10 [==============================] - 0s 6ms/step - loss: 0.3590 - accuracy: 0.8646 - val_loss: 0.3876 - val_accuracy: 0.9167\n",
      "Epoch 28/100\n",
      "10/10 [==============================] - 0s 7ms/step - loss: 0.3503 - accuracy: 0.8750 - val_loss: 0.3805 - val_accuracy: 0.9167\n",
      "Epoch 29/100\n",
      "10/10 [==============================] - 0s 7ms/step - loss: 0.3416 - accuracy: 0.8750 - val_loss: 0.3744 - val_accuracy: 0.9167\n",
      "Epoch 30/100\n",
      "10/10 [==============================] - 0s 6ms/step - loss: 0.3336 - accuracy: 0.8750 - val_loss: 0.3700 - val_accuracy: 0.9167\n",
      "Epoch 31/100\n",
      "10/10 [==============================] - 0s 6ms/step - loss: 0.3252 - accuracy: 0.8750 - val_loss: 0.3597 - val_accuracy: 0.9167\n",
      "Epoch 32/100\n",
      "10/10 [==============================] - 0s 6ms/step - loss: 0.3175 - accuracy: 0.8750 - val_loss: 0.3531 - val_accuracy: 0.9167\n",
      "Epoch 33/100\n",
      "10/10 [==============================] - 0s 6ms/step - loss: 0.3096 - accuracy: 0.8854 - val_loss: 0.3471 - val_accuracy: 0.9167\n",
      "Epoch 34/100\n",
      "10/10 [==============================] - 0s 6ms/step - loss: 0.3027 - accuracy: 0.8854 - val_loss: 0.3450 - val_accuracy: 0.9167\n",
      "Epoch 35/100\n",
      "10/10 [==============================] - 0s 6ms/step - loss: 0.2964 - accuracy: 0.8854 - val_loss: 0.3345 - val_accuracy: 0.9167\n",
      "Epoch 36/100\n",
      "10/10 [==============================] - 0s 5ms/step - loss: 0.2880 - accuracy: 0.8854 - val_loss: 0.3312 - val_accuracy: 0.9167\n",
      "Epoch 37/100\n",
      "10/10 [==============================] - 0s 6ms/step - loss: 0.2817 - accuracy: 0.9062 - val_loss: 0.3258 - val_accuracy: 0.9167\n",
      "Epoch 38/100\n",
      "10/10 [==============================] - 0s 6ms/step - loss: 0.2747 - accuracy: 0.9062 - val_loss: 0.3213 - val_accuracy: 0.9167\n",
      "Epoch 39/100\n",
      "10/10 [==============================] - 0s 6ms/step - loss: 0.2684 - accuracy: 0.8958 - val_loss: 0.3169 - val_accuracy: 0.9167\n",
      "Epoch 40/100\n",
      "10/10 [==============================] - 0s 6ms/step - loss: 0.2620 - accuracy: 0.8958 - val_loss: 0.3110 - val_accuracy: 0.9167\n",
      "Epoch 41/100\n",
      "10/10 [==============================] - 0s 6ms/step - loss: 0.2559 - accuracy: 0.9062 - val_loss: 0.3080 - val_accuracy: 0.9167\n",
      "Epoch 42/100\n",
      "10/10 [==============================] - 0s 6ms/step - loss: 0.2493 - accuracy: 0.9062 - val_loss: 0.3005 - val_accuracy: 0.9167\n",
      "Epoch 43/100\n",
      "10/10 [==============================] - 0s 6ms/step - loss: 0.2441 - accuracy: 0.9167 - val_loss: 0.2988 - val_accuracy: 0.9167\n",
      "Epoch 44/100\n",
      "10/10 [==============================] - 0s 6ms/step - loss: 0.2376 - accuracy: 0.9375 - val_loss: 0.2912 - val_accuracy: 0.9167\n",
      "Epoch 45/100\n",
      "10/10 [==============================] - 0s 6ms/step - loss: 0.2313 - accuracy: 0.9479 - val_loss: 0.2864 - val_accuracy: 0.9167\n",
      "Epoch 46/100\n",
      "10/10 [==============================] - 0s 7ms/step - loss: 0.2260 - accuracy: 0.9479 - val_loss: 0.2824 - val_accuracy: 0.9167\n",
      "Epoch 47/100\n",
      "10/10 [==============================] - 0s 7ms/step - loss: 0.2226 - accuracy: 0.9375 - val_loss: 0.2870 - val_accuracy: 0.9583\n",
      "Epoch 48/100\n",
      "10/10 [==============================] - 0s 7ms/step - loss: 0.2160 - accuracy: 0.9375 - val_loss: 0.2731 - val_accuracy: 0.9583\n",
      "Epoch 49/100\n",
      "10/10 [==============================] - 0s 6ms/step - loss: 0.2108 - accuracy: 0.9479 - val_loss: 0.2647 - val_accuracy: 0.9583\n",
      "Epoch 50/100\n",
      "10/10 [==============================] - 0s 8ms/step - loss: 0.2064 - accuracy: 0.9375 - val_loss: 0.2721 - val_accuracy: 0.9583\n",
      "Epoch 51/100\n",
      "10/10 [==============================] - 0s 6ms/step - loss: 0.2001 - accuracy: 0.9375 - val_loss: 0.2697 - val_accuracy: 0.9583\n",
      "Epoch 52/100\n",
      "10/10 [==============================] - 0s 7ms/step - loss: 0.1956 - accuracy: 0.9375 - val_loss: 0.2631 - val_accuracy: 0.9583\n",
      "Epoch 53/100\n",
      "10/10 [==============================] - 0s 7ms/step - loss: 0.1900 - accuracy: 0.9375 - val_loss: 0.2598 - val_accuracy: 0.9583\n",
      "Epoch 54/100\n",
      "10/10 [==============================] - 0s 6ms/step - loss: 0.1862 - accuracy: 0.9375 - val_loss: 0.2512 - val_accuracy: 0.9583\n",
      "Epoch 55/100\n",
      "10/10 [==============================] - 0s 6ms/step - loss: 0.1813 - accuracy: 0.9375 - val_loss: 0.2512 - val_accuracy: 0.9583\n",
      "Epoch 56/100\n",
      "10/10 [==============================] - 0s 6ms/step - loss: 0.1777 - accuracy: 0.9375 - val_loss: 0.2511 - val_accuracy: 0.9583\n",
      "Epoch 57/100\n",
      "10/10 [==============================] - 0s 6ms/step - loss: 0.1733 - accuracy: 0.9375 - val_loss: 0.2436 - val_accuracy: 0.9583\n",
      "Epoch 58/100\n",
      "10/10 [==============================] - 0s 6ms/step - loss: 0.1696 - accuracy: 0.9375 - val_loss: 0.2465 - val_accuracy: 0.9583\n"
     ]
    },
    {
     "name": "stdout",
     "output_type": "stream",
     "text": [
      "Epoch 59/100\n",
      "10/10 [==============================] - 0s 6ms/step - loss: 0.1656 - accuracy: 0.9375 - val_loss: 0.2430 - val_accuracy: 0.9583\n",
      "Epoch 60/100\n",
      "10/10 [==============================] - 0s 5ms/step - loss: 0.1621 - accuracy: 0.9375 - val_loss: 0.2443 - val_accuracy: 0.9583\n",
      "Epoch 61/100\n",
      "10/10 [==============================] - 0s 6ms/step - loss: 0.1589 - accuracy: 0.9375 - val_loss: 0.2428 - val_accuracy: 0.9583\n",
      "Epoch 62/100\n",
      "10/10 [==============================] - 0s 6ms/step - loss: 0.1551 - accuracy: 0.9375 - val_loss: 0.2318 - val_accuracy: 0.9583\n",
      "Epoch 63/100\n",
      "10/10 [==============================] - 0s 6ms/step - loss: 0.1517 - accuracy: 0.9375 - val_loss: 0.2308 - val_accuracy: 0.9583\n",
      "Epoch 64/100\n",
      "10/10 [==============================] - 0s 6ms/step - loss: 0.1483 - accuracy: 0.9375 - val_loss: 0.2247 - val_accuracy: 0.9583\n",
      "Epoch 65/100\n",
      "10/10 [==============================] - 0s 5ms/step - loss: 0.1452 - accuracy: 0.9375 - val_loss: 0.2194 - val_accuracy: 0.9583\n",
      "Epoch 66/100\n",
      "10/10 [==============================] - 0s 7ms/step - loss: 0.1426 - accuracy: 0.9479 - val_loss: 0.2189 - val_accuracy: 0.9583\n",
      "Epoch 67/100\n",
      "10/10 [==============================] - 0s 7ms/step - loss: 0.1395 - accuracy: 0.9479 - val_loss: 0.2203 - val_accuracy: 0.9583\n",
      "Epoch 68/100\n",
      "10/10 [==============================] - 0s 7ms/step - loss: 0.1373 - accuracy: 0.9479 - val_loss: 0.2213 - val_accuracy: 0.9583\n",
      "Epoch 69/100\n",
      "10/10 [==============================] - 0s 6ms/step - loss: 0.1340 - accuracy: 0.9479 - val_loss: 0.2191 - val_accuracy: 0.9583\n",
      "Epoch 70/100\n",
      "10/10 [==============================] - 0s 5ms/step - loss: 0.1310 - accuracy: 0.9479 - val_loss: 0.2143 - val_accuracy: 0.9583\n",
      "Epoch 71/100\n",
      "10/10 [==============================] - 0s 6ms/step - loss: 0.1296 - accuracy: 0.9479 - val_loss: 0.2164 - val_accuracy: 0.9583\n",
      "Epoch 72/100\n",
      "10/10 [==============================] - 0s 5ms/step - loss: 0.1262 - accuracy: 0.9583 - val_loss: 0.2085 - val_accuracy: 0.9583\n",
      "Epoch 73/100\n",
      "10/10 [==============================] - 0s 6ms/step - loss: 0.1246 - accuracy: 0.9688 - val_loss: 0.2030 - val_accuracy: 0.9583\n",
      "Epoch 74/100\n",
      "10/10 [==============================] - 0s 5ms/step - loss: 0.1216 - accuracy: 0.9688 - val_loss: 0.2037 - val_accuracy: 0.9583\n",
      "Epoch 75/100\n",
      "10/10 [==============================] - 0s 5ms/step - loss: 0.1196 - accuracy: 0.9688 - val_loss: 0.2092 - val_accuracy: 0.9583\n",
      "Epoch 76/100\n",
      "10/10 [==============================] - 0s 6ms/step - loss: 0.1191 - accuracy: 0.9688 - val_loss: 0.1998 - val_accuracy: 0.9583\n",
      "Epoch 77/100\n",
      "10/10 [==============================] - 0s 6ms/step - loss: 0.1154 - accuracy: 0.9688 - val_loss: 0.2037 - val_accuracy: 0.9583\n",
      "Epoch 78/100\n",
      "10/10 [==============================] - 0s 7ms/step - loss: 0.1154 - accuracy: 0.9583 - val_loss: 0.2146 - val_accuracy: 0.9167\n",
      "Epoch 79/100\n",
      "10/10 [==============================] - 0s 5ms/step - loss: 0.1124 - accuracy: 0.9688 - val_loss: 0.2003 - val_accuracy: 0.9583\n",
      "Epoch 80/100\n",
      "10/10 [==============================] - 0s 6ms/step - loss: 0.1101 - accuracy: 0.9688 - val_loss: 0.2003 - val_accuracy: 0.9583\n",
      "Epoch 81/100\n",
      "10/10 [==============================] - 0s 6ms/step - loss: 0.1082 - accuracy: 0.9688 - val_loss: 0.1967 - val_accuracy: 0.9583\n",
      "Epoch 82/100\n",
      "10/10 [==============================] - 0s 6ms/step - loss: 0.1065 - accuracy: 0.9688 - val_loss: 0.1980 - val_accuracy: 0.9583\n",
      "Epoch 83/100\n",
      "10/10 [==============================] - 0s 6ms/step - loss: 0.1049 - accuracy: 0.9688 - val_loss: 0.1984 - val_accuracy: 0.9583\n",
      "Epoch 84/100\n",
      "10/10 [==============================] - 0s 6ms/step - loss: 0.1024 - accuracy: 0.9688 - val_loss: 0.2026 - val_accuracy: 0.9583\n",
      "Epoch 85/100\n",
      "10/10 [==============================] - 0s 5ms/step - loss: 0.1009 - accuracy: 0.9688 - val_loss: 0.2078 - val_accuracy: 0.9167\n",
      "Epoch 86/100\n",
      "10/10 [==============================] - 0s 7ms/step - loss: 0.0991 - accuracy: 0.9688 - val_loss: 0.2060 - val_accuracy: 0.9167\n",
      "Epoch 87/100\n",
      "10/10 [==============================] - 0s 7ms/step - loss: 0.0983 - accuracy: 0.9583 - val_loss: 0.1985 - val_accuracy: 0.9583\n",
      "Epoch 88/100\n",
      "10/10 [==============================] - 0s 7ms/step - loss: 0.0963 - accuracy: 0.9583 - val_loss: 0.2009 - val_accuracy: 0.9167\n",
      "Epoch 89/100\n",
      "10/10 [==============================] - 0s 6ms/step - loss: 0.0957 - accuracy: 0.9688 - val_loss: 0.2052 - val_accuracy: 0.9167\n",
      "Epoch 90/100\n",
      "10/10 [==============================] - 0s 6ms/step - loss: 0.0933 - accuracy: 0.9688 - val_loss: 0.2028 - val_accuracy: 0.9167\n",
      "Epoch 91/100\n",
      "10/10 [==============================] - 0s 7ms/step - loss: 0.0928 - accuracy: 0.9583 - val_loss: 0.1915 - val_accuracy: 0.9583\n",
      "Epoch 92/100\n",
      "10/10 [==============================] - 0s 7ms/step - loss: 0.0926 - accuracy: 0.9583 - val_loss: 0.2023 - val_accuracy: 0.9167\n",
      "Epoch 93/100\n",
      "10/10 [==============================] - 0s 6ms/step - loss: 0.0902 - accuracy: 0.9688 - val_loss: 0.2040 - val_accuracy: 0.9167\n",
      "Epoch 94/100\n",
      "10/10 [==============================] - 0s 7ms/step - loss: 0.0886 - accuracy: 0.9583 - val_loss: 0.1989 - val_accuracy: 0.9167\n",
      "Epoch 95/100\n",
      "10/10 [==============================] - 0s 6ms/step - loss: 0.0878 - accuracy: 0.9583 - val_loss: 0.1966 - val_accuracy: 0.9167\n",
      "Epoch 96/100\n",
      "10/10 [==============================] - 0s 7ms/step - loss: 0.0884 - accuracy: 0.9583 - val_loss: 0.1875 - val_accuracy: 0.9583\n",
      "Epoch 97/100\n",
      "10/10 [==============================] - 0s 6ms/step - loss: 0.0858 - accuracy: 0.9583 - val_loss: 0.1928 - val_accuracy: 0.9167\n",
      "Epoch 98/100\n",
      "10/10 [==============================] - 0s 7ms/step - loss: 0.0852 - accuracy: 0.9583 - val_loss: 0.1997 - val_accuracy: 0.9167\n",
      "Epoch 99/100\n",
      "10/10 [==============================] - 0s 9ms/step - loss: 0.0840 - accuracy: 0.9583 - val_loss: 0.1975 - val_accuracy: 0.9167\n",
      "Epoch 100/100\n",
      "10/10 [==============================] - 0s 6ms/step - loss: 0.0831 - accuracy: 0.9688 - val_loss: 0.1996 - val_accuracy: 0.9167\n"
     ]
    }
   ],
   "source": [
    "# Train the model with validation split\n",
    "history = model.fit(X_train, y_train, validation_split=0.2, epochs=100, batch_size=10)\n"
   ]
  },
  {
   "cell_type": "code",
   "execution_count": 36,
   "id": "adc38d8e",
   "metadata": {},
   "outputs": [
    {
     "name": "stdout",
     "output_type": "stream",
     "text": [
      "1/1 [==============================] - 0s 31ms/step - loss: 0.0612 - accuracy: 1.0000\n",
      "Test Accuracy: 1.0\n"
     ]
    }
   ],
   "source": [
    "# Evaluate the model on the test data\n",
    "test_loss, test_acc = model.evaluate(X_test, y_test)\n",
    "\n",
    "# Print accuracy\n",
    "print(f\"Test Accuracy: {test_acc}\")\n"
   ]
  },
  {
   "cell_type": "code",
   "execution_count": 37,
   "id": "d77ff457",
   "metadata": {},
   "outputs": [
    {
     "name": "stdout",
     "output_type": "stream",
     "text": [
      "1/1 [==============================] - 0s 112ms/step\n",
      "Confusion Matrix:\n",
      " [[10  0  0]\n",
      " [ 0  9  0]\n",
      " [ 0  0 11]]\n",
      "              precision    recall  f1-score   support\n",
      "\n",
      "      setosa       1.00      1.00      1.00        10\n",
      "  versicolor       1.00      1.00      1.00         9\n",
      "   virginica       1.00      1.00      1.00        11\n",
      "\n",
      "    accuracy                           1.00        30\n",
      "   macro avg       1.00      1.00      1.00        30\n",
      "weighted avg       1.00      1.00      1.00        30\n",
      "\n"
     ]
    }
   ],
   "source": [
    "# Predict classes\n",
    "y_pred = np.argmax(model.predict(X_test), axis=1)\n",
    "y_true = np.argmax(y_test, axis=1)\n",
    "\n",
    "# Confusion matrix\n",
    "cm = confusion_matrix(y_true, y_pred)\n",
    "print(\"Confusion Matrix:\\n\", cm)\n",
    "\n",
    "# Classification report\n",
    "print(classification_report(y_true, y_pred, target_names=iris.target_names))\n"
   ]
  },
  {
   "cell_type": "code",
   "execution_count": 38,
   "id": "6a500e56",
   "metadata": {},
   "outputs": [
    {
     "data": {
      "image/png": "[encoded data removed]",
      "text/plain": [
       "<Figure size 1200x400 with 2 Axes>"
      ]
     },
     "metadata": {},
     "output_type": "display_data"
    }
   ],
   "source": [
    "import matplotlib.pyplot as plt\n",
    "\n",
    "# Plot training & validation accuracy and loss over epochs\n",
    "plt.figure(figsize=(12, 4))\n",
    "\n",
    "plt.subplot(1, 2, 1)\n",
    "plt.plot(history.history['accuracy'], label='Train Accuracy')\n",
    "plt.plot(history.history['val_accuracy'], label='Validation Accuracy')\n",
    "plt.title('Model Accuracy')\n",
    "plt.xlabel('Epochs')\n",
    "plt.ylabel('Accuracy')\n",
    "plt.legend()\n",
    "\n",
    "plt.subplot(1, 2, 2)\n",
    "plt.plot(history.history['loss'], label='Train Loss')\n",
    "plt.plot(history.history['val_loss'], label='Validation Loss')\n",
    "plt.title('Model Loss')\n",
    "plt.xlabel('Epochs')\n",
    "plt.ylabel('Loss')\n",
    "plt.legend()\n",
    "\n",
    "plt.show()\n"
   ]
  },
  {
   "cell_type": "code",
   "execution_count": null,
   "id": "8bf14e96",
   "metadata": {},
   "outputs": [],
   "source": []
  }
 ],
 "metadata": {
  "kernelspec": {
   "display_name": "Python 3 (ipykernel)",
   "language": "python",
   "name": "python3"
  },
  "language_info": {
   "codemirror_mode": {
    "name": "ipython",
    "version": 3
   },
   "file_extension": ".py",
   "mimetype": "text/x-python",
   "name": "python",
   "nbconvert_exporter": "python",
   "pygments_lexer": "ipython3",
   "version": "3.11.5"
  }
 },
 "nbformat": 4,
 "nbformat_minor": 5
}
